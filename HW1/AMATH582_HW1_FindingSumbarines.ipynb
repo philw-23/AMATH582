{
 "cells": [
  {
   "cell_type": "code",
   "execution_count": 14,
   "id": "152e377e",
   "metadata": {},
   "outputs": [],
   "source": [
    "import numpy as np\n",
    "import plotly.graph_objs as pgo # For Plotting isosurfaces\n",
    "import matplotlib.pyplot as plt # For other plotting"
   ]
  },
  {
   "cell_type": "code",
   "execution_count": 15,
   "id": "cd0524bd",
   "metadata": {},
   "outputs": [
    {
     "data": {
      "text/plain": [
       "(262144, 49)"
      ]
     },
     "execution_count": 15,
     "metadata": {},
     "output_type": "execute_result"
    }
   ],
   "source": [
    "# Load in and reshape data\n",
    "sub_data = np.load('./subdata.npy') # Loads in flattened array of 3D data\n",
    "sub_data.shape"
   ]
  },
  {
   "cell_type": "code",
   "execution_count": 16,
   "id": "94cf02f9",
   "metadata": {},
   "outputs": [],
   "source": [
    "# Define Normal Space Parameters\n",
    "L = 10 # Length of side\n",
    "N = 64 # Size of grid in each direction\n",
    "x = np.linspace(-L, L, N+1) # spatial x grid\n",
    "x = x[:-1] # Take first N points\n",
    "y = x; z = x # Same discretation in other dimensions\n",
    "x_grid, y_grid, z_grid = np.meshgrid(x, y, z) # Generate meshgrid"
   ]
  },
  {
   "cell_type": "code",
   "execution_count": 17,
   "id": "1ae36a3e",
   "metadata": {},
   "outputs": [],
   "source": [
    "# Define Fourier Space Parameters\n",
    "# NOTE: Take out -1 from fourier vector as numpy doesn't include upper endpoint\n",
    "kx = 2 * np.pi/(2 * L) * np.hstack((np.arange(0, N/2), np.arange(-N/2, 0))) # Define base kx vector, fourier order\n",
    "kx = np.fft.fftshift(kx) # Apply fftshift for proper order of items\n",
    "ky = kx; kz = kx # Same fourier discretation in all dimensions\n",
    "kx_grid, ky_grid, kz_grid = np.meshgrid(kx, ky, kz)"
   ]
  },
  {
   "cell_type": "code",
   "execution_count": 18,
   "id": "1e248a01",
   "metadata": {},
   "outputs": [],
   "source": [
    "# Calculate FFT of each time step\n",
    "sub_data_fft = np.zeros((N, N, N, sub_data.shape[1]), dtype='complex_') # Need to allow for complex values\n",
    "for i in range(sub_data.shape[1]): # Iterate through all 3D slices\n",
    "    sub_signal = np.reshape(sub_data[:, i], (N, N, N), 'F')\n",
    "    sub_signal_fft = np.fft.fftn(sub_signal)\n",
    "    sub_data_fft[:,:,:,i] = np.fft.fftshift(sub_signal_fft) # Add each element to result"
   ]
  },
  {
   "cell_type": "code",
   "execution_count": 19,
   "id": "97b4211b",
   "metadata": {},
   "outputs": [],
   "source": [
    "# Average data to remove noise\n",
    "sub_data_fft_sum = np.sum(sub_data_fft, axis=3) # Sum across last axis\n",
    "average_frequencies = np.abs(sub_data_fft_sum) / np.abs(sub_data_fft_sum.flatten()).max() # Normalize frequencies"
   ]
  },
  {
   "cell_type": "code",
   "execution_count": 20,
   "id": "58ee31c7",
   "metadata": {},
   "outputs": [
    {
     "name": "stdout",
     "output_type": "stream",
     "text": [
      "[-5.34070751] [6.91150384] [-2.19911486]\n"
     ]
    }
   ],
   "source": [
    "# Get location of max frequency\n",
    "max_idx = np.argmax(average_frequencies.flatten())\n",
    "x_loc, y_loc, z_loc = np.unravel_index(max_idx, sub_data_fft_sum.shape) # Linear index to matrix form (column major)\n",
    "x_freq = kx_grid[x_loc, y_loc, z_loc].flatten() # Extract x frequency(ies)\n",
    "y_freq = ky_grid[x_loc, y_loc, z_loc].flatten() # Extract y frequency(ies)\n",
    "z_freq = kz_grid[x_loc, y_loc, z_loc].flatten() # Extract z frequency(ies)\n",
    "print(x_freq, y_freq, z_freq)"
   ]
  },
  {
   "cell_type": "code",
   "execution_count": 21,
   "id": "0281e034",
   "metadata": {},
   "outputs": [],
   "source": [
    "# Create Gaussian Filter using central frequency\n",
    "gauss_filt = np.exp(-0.1 * ((kx_grid - x_freq[0])**2  + (ky_grid - y_freq[0])**2 + (kz_grid - z_freq[0])**2))"
   ]
  },
  {
   "cell_type": "code",
   "execution_count": 22,
   "id": "61abe546",
   "metadata": {},
   "outputs": [
    {
     "name": "stdout",
     "output_type": "stream",
     "text": [
      "[[ 3.125   0.     -8.125 ]\n",
      " [ 3.125   0.3125 -7.8125]\n",
      " [ 3.125   0.625  -7.5   ]\n",
      " [ 3.125   0.9375 -7.1875]\n",
      " [ 3.125   1.5625 -6.875 ]\n",
      " [ 3.125   1.875  -6.5625]\n",
      " [ 3.125   2.1875 -6.25  ]\n",
      " [ 3.125   2.5    -5.9375]\n",
      " [ 3.125   2.8125 -5.625 ]\n",
      " [ 2.8125  3.125  -5.3125]\n",
      " [ 2.8125  3.4375 -5.    ]\n",
      " [ 2.5     3.75   -4.6875]\n",
      " [ 2.1875  4.0625 -4.375 ]\n",
      " [ 1.875   4.375  -4.0625]\n",
      " [ 1.875   4.6875 -3.75  ]\n",
      " [ 1.5625  5.     -3.4375]\n",
      " [ 0.9375  5.     -3.125 ]\n",
      " [ 0.625   5.     -2.8125]\n",
      " [ 0.3125  5.3125 -2.5   ]\n",
      " [ 0.      5.625  -2.1875]\n",
      " [-0.625   5.625  -1.875 ]\n",
      " [-0.9375  5.625  -1.5625]\n",
      " [-1.25    5.9375 -1.25  ]\n",
      " [-1.875   5.9375 -1.25  ]\n",
      " [-2.1875  5.9375 -0.9375]\n",
      " [-2.8125  5.9375 -0.625 ]\n",
      " [-3.125   5.9375 -0.3125]\n",
      " [-3.75    5.9375  0.    ]\n",
      " [-4.0625  5.9375  0.3125]\n",
      " [-4.375   5.9375  0.625 ]\n",
      " [-4.6875  5.625   0.9375]\n",
      " [-5.3125  5.625   1.25  ]\n",
      " [-5.625   5.3125  1.5625]\n",
      " [-5.9375  5.3125  1.875 ]\n",
      " [-5.9375  5.      2.1875]\n",
      " [-6.25    5.      2.5   ]\n",
      " [-6.5625  4.6875  2.8125]\n",
      " [-6.875   4.375   3.125 ]\n",
      " [-6.875   4.0625  3.4375]\n",
      " [-6.875   3.75    3.75  ]\n",
      " [-6.875   3.4375  4.0625]\n",
      " [-6.875   3.4375  4.375 ]\n",
      " [-6.5625  2.8125  4.6875]\n",
      " [-6.5625  2.5     5.    ]\n",
      " [-6.25    2.1875  5.3125]\n",
      " [-6.25    1.875   5.625 ]\n",
      " [-5.9375  1.5625  5.9375]\n",
      " [-5.3125  1.25    5.9375]\n",
      " [-5.3125  0.9375  6.25  ]]\n"
     ]
    }
   ],
   "source": [
    "# Use Gaussian filter to de-noise and locate the data\n",
    "position_data = np.zeros((sub_data.shape[1], 3)) # For storing locations\n",
    "for i in range(sub_data.shape[1]): # Iterate through data\n",
    "    sub_loc_fft = sub_data_fft[:, :, :, i] # Access the FFT data (already shifted)\n",
    "    sub_loc_fft_filt = sub_loc_fft * gauss_filt # Apply filter\n",
    "    sub_loc_fft_filt = np.fft.ifftshift(sub_loc_fft_filt) # Shift data back\n",
    "    sub_loc_filt = np.fft.ifftn(sub_loc_fft_filt) # inverse transform\n",
    "    sub_loc_norm = np.abs(sub_loc_filt) / np.abs(sub_loc_filt.flatten()).max()\n",
    "    main_frequency = np.argmax(sub_loc_norm.flatten()) # Find flattened index of main\n",
    "    x_loc, y_loc, z_loc = np.unravel_index(main_frequency, sub_loc_norm.shape) # Get indexes\n",
    "    x_loc, y_loc, z_loc = x_grid[x_loc, y_loc, z_loc], y_grid[x_loc, y_loc, z_loc], z_grid[x_loc, y_loc, z_loc] # Get locations\n",
    "    position_data[i, :] = [x_loc, y_loc, z_loc] # Append\n",
    "\n",
    "print(position_data)"
   ]
  },
  {
   "cell_type": "code",
   "execution_count": 35,
   "id": "9bfb2a6b",
   "metadata": {},
   "outputs": [
    {
     "data": {
      "image/png": "[encoded data removed]",
      "text/plain": [
       "<Figure size 720x720 with 1 Axes>"
      ]
     },
     "metadata": {
      "needs_background": "light"
     },
     "output_type": "display_data"
    }
   ],
   "source": [
    "# Plot 3D Position\n",
    "fig = plt.figure(figsize=(10,10)) # Generate subplots\n",
    "\n",
    "# 3D Position Plot\n",
    "ax0 = plt.axes(projection='3d'); ax0.grid(False)\n",
    "ax0.plot(position_data[:, 0], position_data[:, 1], position_data[:, 2], '-*')\n",
    "ax0.set_xlim(-8, 8); ax0.set_ylim(-8, 8); ax0.set_zlim(-8, 8)\n",
    "ax0.set_xlabel('x'); ax0.set_ylabel('y'); ax0.set_zlabel('z')\n",
    "ax0.set_title('Submarine Position')\n",
    "ax0.view_init(15,30)"
   ]
  },
  {
   "cell_type": "code",
   "execution_count": 26,
   "id": "03b4dcee",
   "metadata": {},
   "outputs": [
    {
     "data": {
      "text/plain": [
       "Text(0.5, 1.0, 'Submarine Position: x, y')"
      ]
     },
     "execution_count": 26,
     "metadata": {},
     "output_type": "execute_result"
    },
    {
     "data": {
      "image/png": "[encoded data removed]",
      "text/plain": [
       "<Figure size 504x504 with 1 Axes>"
      ]
     },
     "metadata": {
      "needs_background": "light"
     },
     "output_type": "display_data"
    }
   ],
   "source": [
    "# X, Y plot\n",
    "fig = plt.figure(figsize=(7, 7))\n",
    "plt.plot(position_data[:, 0], position_data[:, 1], '-*')\n",
    "plt.xlim(-8, 8); plt.ylim(-8, 8);\n",
    "plt.xlabel('x'); plt.ylabel('y');\n",
    "plt.title('Submarine Position: x, y')"
   ]
  }
 ],
 "metadata": {
  "kernelspec": {
   "display_name": "Python 3",
   "language": "python",
   "name": "python3"
  },
  "language_info": {
   "codemirror_mode": {
    "name": "ipython",
    "version": 3
   },
   "file_extension": ".py",
   "mimetype": "text/x-python",
   "name": "python",
   "nbconvert_exporter": "python",
   "pygments_lexer": "ipython3",
   "version": "3.7.6"
  }
 },
 "nbformat": 4,
 "nbformat_minor": 5
}
