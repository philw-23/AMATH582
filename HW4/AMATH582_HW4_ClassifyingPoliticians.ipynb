{
 "cells": [
  {
   "cell_type": "code",
   "execution_count": 49,
   "id": "edc86f9a",
   "metadata": {},
   "outputs": [],
   "source": [
    "import numpy as np\n",
    "import scipy.spatial\n",
    "import matplotlib.pyplot as plt\n",
    "from sklearn.linear_model import LinearRegression, Ridge"
   ]
  },
  {
   "cell_type": "code",
   "execution_count": 50,
   "id": "97cd467e",
   "metadata": {},
   "outputs": [
    {
     "name": "stdout",
     "output_type": "stream",
     "text": [
      "(435, 16) (435,)\n"
     ]
    }
   ],
   "source": [
    "# Load/Preprocess Data\n",
    "votes_raw = np.loadtxt('./house-votes-84.data', dtype=object, delimiter=',')\n",
    "votes_raw[(votes_raw == 'republican') | (votes_raw == 'n')] = -1.\n",
    "votes_raw[(votes_raw == 'democrat') | (votes_raw == 'y')] = 1.\n",
    "votes_raw[votes_raw == '?'] = 0\n",
    "votes = votes_raw\n",
    "X, y = votes[:, 1:], votes[:, 0]\n",
    "print(X.shape, y.shape)\n",
    "np.savetxt('./test_export.txt', votes)"
   ]
  },
  {
   "cell_type": "markdown",
   "id": "72c625d2",
   "metadata": {},
   "source": [
    "# Task 1 - Spectral Clustering"
   ]
  },
  {
   "cell_type": "code",
   "execution_count": 51,
   "id": "eabf4855",
   "metadata": {},
   "outputs": [],
   "source": [
    "# Function to calculate unnormalized laplacian matrix\n",
    "def generateUnnormalizedLaplacian(x, sigma):\n",
    "    W = np.exp(-(x**2)/(2 * sigma**2)).astype(float)\n",
    "    d = np.sum(W, axis=1) # Sum rows\n",
    "    D = np.diag(d) # Diagonal matrix of row sums\n",
    "    L = D - W # Graph laplacian\n",
    "    lam, Q = np.linalg.eigh(L) # Eigenvalues and vectors\n",
    "    sort_idx = lam.argsort() # Sort index\n",
    "    lam_sort = lam[sort_idx] \n",
    "    Q_sort = Q[:, sort_idx] # Apply sort\n",
    "    return lam_sort, Q_sort, Q"
   ]
  },
  {
   "cell_type": "code",
   "execution_count": 52,
   "id": "00f825e0",
   "metadata": {},
   "outputs": [],
   "source": [
    "# Calculate prediction accuracy of fiedler vector\n",
    "def calculateAccuracy(Q, y):\n",
    "    pred = np.sign(Q[:, 1])\n",
    "    correct = np.count_nonzero(pred == y)\n",
    "    accuracy = 1 - correct / 435\n",
    "    accuracy = max(accuracy, 1 - accuracy) # Account for potential negative sign off\n",
    "    return accuracy"
   ]
  },
  {
   "cell_type": "code",
   "execution_count": 53,
   "id": "82960c15",
   "metadata": {},
   "outputs": [],
   "source": [
    "# Generate spatial distance matrix\n",
    "X_spatial = scipy.spatial.distance_matrix(X, X, p=2)"
   ]
  },
  {
   "cell_type": "code",
   "execution_count": 54,
   "id": "7dc201aa",
   "metadata": {},
   "outputs": [
    {
     "name": "stdout",
     "output_type": "stream",
     "text": [
      "Best Sigma: 1.1599999999999995 , Best Accuracy: 0.8804597701149426\n"
     ]
    }
   ],
   "source": [
    "# Run for specified range\n",
    "sigmas = np.arange(0.1, 4, step=0.01)\n",
    "accuracies = [] # List of accuracies\n",
    "for s in sigmas: # iterate through all sigma\n",
    "    lam, Q, _ = generateUnnormalizedLaplacian(X_spatial, s) # Generate Laplacian\n",
    "    s_acc = calculateAccuracy(Q, y) # Calculate accuracy\n",
    "    accuracies.append(s_acc)\n",
    "\n",
    "# Best Results\n",
    "best_accuracy_idx = np.argmax(accuracies)\n",
    "best_accuracy = accuracies[best_accuracy_idx]\n",
    "best_sigma = sigmas[best_accuracy_idx]\n",
    "print('Best Sigma:', best_sigma, ', Best Accuracy:', best_accuracy)"
   ]
  },
  {
   "cell_type": "code",
   "execution_count": 55,
   "id": "3fd7ccb2",
   "metadata": {},
   "outputs": [
    {
     "data": {
      "image/png": "[encoded data removed]",
      "text/plain": [
       "<Figure size 720x576 with 1 Axes>"
      ]
     },
     "metadata": {
      "needs_background": "light"
     },
     "output_type": "display_data"
    }
   ],
   "source": [
    "# Plot results\n",
    "fig = plt.figure(figsize=(10,8))\n",
    "plt.scatter(sigmas, accuracies, label='Accuracies')\n",
    "plt.plot(best_sigma, best_accuracy, 'r*', markersize=20, label='$\\sigma_{opt}$')\n",
    "plt.xlabel('$\\sigma$', fontsize=16)\n",
    "plt.ylabel('Classification Accuracy', fontsize=16)\n",
    "plt.legend(fontsize=16)\n",
    "plt.show()"
   ]
  },
  {
   "cell_type": "code",
   "execution_count": 56,
   "id": "6d5ddecb",
   "metadata": {},
   "outputs": [],
   "source": [
    "# Plot the first three eigenvectors to see split\n",
    "# _, Q_opt, Q = generateUnnormalizedLaplacian(X_spatial, best_sigma) # Get the data\n",
    "# eig1 = Q[:, 1] / np.abs(Q[:, 1]).max()\n",
    "# eig2 = Q[:, 2] / np.abs(Q[:, 2]).max()\n",
    "# eig3 = Q[:, 3] / np.abs(Q[:, 3]).max()\n",
    "\n",
    "# fig, ax = plt.subplots(1, 3, figsize=(24, 12))\n",
    "# ax[0].scatter(eig1, eig2)\n",
    "# ax[1].scatter(eig2, eig3)\n",
    "# ax[2].scatter(eig1, eig3)\n",
    "# # fig = plt.figure(figsize=(12, 12))\n",
    "# # ax = plt.axes(projection='3d')\n",
    "# # ax.scatter(, # First eigenvector\n",
    "# #            , # Second eigenvector\n",
    "# #            Q[:, 3] / np.abs(Q[:, 3]).max())\n",
    "# # ax.set_xlabel('$q_1$')\n",
    "# # ax.set_ylabel('$q_2$')\n",
    "# # ax.set_zlabel('$q_3$')\n",
    "# # plt.show()"
   ]
  },
  {
   "cell_type": "markdown",
   "id": "6678d13c",
   "metadata": {},
   "source": [
    "# Task 2 - Semi-Supervised Learning"
   ]
  },
  {
   "cell_type": "code",
   "execution_count": 57,
   "id": "ee6347e7",
   "metadata": {},
   "outputs": [
    {
     "name": "stdout",
     "output_type": "stream",
     "text": [
      "[[0.11034483 0.11264368 0.16091954 0.13103448 0.13103448]\n",
      " [0.11264368 0.18390805 0.14942529 0.28965517 0.31494253]\n",
      " [0.11724138 0.17931034 0.13563218 0.16091954 0.12643678]\n",
      " [0.11954023 0.16321839 0.12413793 0.11954023 0.13563218]]\n"
     ]
    }
   ],
   "source": [
    "# Run models using Q_opt\n",
    "J_vals = [5, 10, 20, 40] # J values to consider (rows)\n",
    "M_vals = [2, 3, 4, 5, 6] # M values to consider (columns)\n",
    "results = np.empty((len(J_vals), len(M_vals))) # Results vector\n",
    "model = LinearRegression(fit_intercept=False) # base model\n",
    "for j_i, j in enumerate(J_vals): # Iterate through all J_vals\n",
    "    for m_i, m in enumerate(M_vals): # iterate through all m_vals\n",
    "        A = Q_opt[0:j, 0:m] # Make A matrix\n",
    "        b = y[0:j] # Make b vector\n",
    "        model.fit(A, b) # Fit model\n",
    "        betas = model.coef_ # Get coefficients\n",
    "        pred = np.sign(np.dot(Q_opt[:, 0:m] , betas)) # Predictions\n",
    "        correct = np.count_nonzero(pred == y) # how many are correct\n",
    "        accuracy = 1 - correct / 435 # Convert to accuracy\n",
    "        results[j_i, m_i] = accuracy # Append results\n",
    "        \n",
    "print(results)"
   ]
  }
 ],
 "metadata": {
  "kernelspec": {
   "display_name": "Python 3",
   "language": "python",
   "name": "python3"
  },
  "language_info": {
   "codemirror_mode": {
    "name": "ipython",
    "version": 3
   },
   "file_extension": ".py",
   "mimetype": "text/x-python",
   "name": "python",
   "nbconvert_exporter": "python",
   "pygments_lexer": "ipython3",
   "version": "3.7.6"
  }
 },
 "nbformat": 4,
 "nbformat_minor": 5
}
